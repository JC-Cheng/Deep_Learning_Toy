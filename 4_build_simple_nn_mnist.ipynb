{
 "cells": [
  {
   "cell_type": "code",
   "execution_count": 14,
   "metadata": {
    "collapsed": false
   },
   "outputs": [],
   "source": [
    "import numpy as np\n",
    "\n",
    "from keras.datasets import mnist\n",
    "from keras.models import Sequential\n",
    "from keras.layers.core import Dense\n",
    "from keras.utils import np_utils\n",
    "\n",
    "from keras.models import Sequential\n",
    "from keras.layers.core import Dense\n",
    "\n",
    "from keras.optimizers import SGD"
   ]
  },
  {
   "cell_type": "markdown",
   "metadata": {},
   "source": [
    "# Load dataset"
   ]
  },
  {
   "cell_type": "code",
   "execution_count": 7,
   "metadata": {
    "collapsed": false
   },
   "outputs": [
    {
     "name": "stdout",
     "output_type": "stream",
     "text": [
      "(60000L, 'train samples')\n",
      "(10000L, 'test samples')\n"
     ]
    }
   ],
   "source": [
    "nb_classes = 10\n",
    "\n",
    "# the data, shuffled and split between tran and test sets\n",
    "(X_train, y_train), (X_test, y_test) = mnist.load_data()\n",
    "\n",
    "X_train = X_train.reshape(60000, 784)\n",
    "X_test = X_test.reshape(10000, 784)\n",
    "X_train = X_train.astype(\"float32\")\n",
    "X_test = X_test.astype(\"float32\")\n",
    "X_train /= 255\n",
    "X_test /= 255\n",
    "print(X_train.shape[0], 'train samples')\n",
    "print(X_test.shape[0], 'test samples')\n",
    "\n",
    "# convert class vectors to binary class matrices\n",
    "Y_train = np_utils.to_categorical(y_train, nb_classes)\n",
    "Y_test = np_utils.to_categorical(y_test, nb_classes)"
   ]
  },
  {
   "cell_type": "code",
   "execution_count": 13,
   "metadata": {
    "collapsed": false
   },
   "outputs": [
    {
     "data": {
      "text/plain": [
       "array([7, 2, 1, ..., 4, 5, 6], dtype=uint8)"
      ]
     },
     "execution_count": 13,
     "metadata": {},
     "output_type": "execute_result"
    }
   ],
   "source": [
    "y_test"
   ]
  },
  {
   "cell_type": "markdown",
   "metadata": {},
   "source": [
    "# Model definition"
   ]
  },
  {
   "cell_type": "code",
   "execution_count": 8,
   "metadata": {
    "collapsed": false
   },
   "outputs": [],
   "source": [
    "model = Sequential()\n",
    "\n",
    "# define input_dim for the first layer\n",
    "model.add(Dense(output_dim=100, input_dim=784, activation='relu'))\n",
    "\n",
    "# not required to define input_dim\n",
    "model.add(Dense(output_dim=200, activation='relu'))\n",
    "model.add(Dense(output_dim=200, activation='relu'))\n",
    "model.add(Dense(output_dim=nb_classes, activation='softmax'))"
   ]
  },
  {
   "cell_type": "markdown",
   "metadata": {},
   "source": [
    "# Model compilation (compile Theano functions)"
   ]
  },
  {
   "cell_type": "code",
   "execution_count": 18,
   "metadata": {
    "collapsed": false
   },
   "outputs": [],
   "source": [
    "sgd_optimizer = SGD(lr=0.01, momentum=0.9, nesterov=True)\n",
    "model.compile(optimizer=sgd_optimizer, loss='categorical_crossentropy')\n",
    "\n",
    "#model.compile(optimizer='adam', loss='categorical_crossentropy') this optimizer does better "
   ]
  },
  {
   "cell_type": "markdown",
   "metadata": {},
   "source": [
    "# Train"
   ]
  },
  {
   "cell_type": "code",
   "execution_count": 22,
   "metadata": {
    "collapsed": false
   },
   "outputs": [
    {
     "name": "stdout",
     "output_type": "stream",
     "text": [
      "Train on 60000 samples, validate on 10000 samples\n",
      "Epoch 1/10\n",
      "60000/60000 [==============================] - 2s - loss: 0.0046 - acc: 0.9994 - val_loss: 0.0806 - val_acc: 0.9795\n",
      "Epoch 2/10\n",
      "60000/60000 [==============================] - 2s - loss: 0.0039 - acc: 0.9996 - val_loss: 0.0781 - val_acc: 0.9804\n",
      "Epoch 3/10\n",
      "60000/60000 [==============================] - 2s - loss: 0.0035 - acc: 0.9996 - val_loss: 0.0793 - val_acc: 0.9803\n",
      "Epoch 4/10\n",
      "60000/60000 [==============================] - 2s - loss: 0.0031 - acc: 0.9997 - val_loss: 0.0806 - val_acc: 0.9801\n",
      "Epoch 5/10\n",
      "60000/60000 [==============================] - 2s - loss: 0.0028 - acc: 0.9998 - val_loss: 0.0806 - val_acc: 0.9811\n",
      "Epoch 6/10\n",
      "60000/60000 [==============================] - 2s - loss: 0.0024 - acc: 0.9999 - val_loss: 0.0810 - val_acc: 0.9807\n",
      "Epoch 7/10\n",
      "60000/60000 [==============================] - 2s - loss: 0.0022 - acc: 0.9999 - val_loss: 0.0819 - val_acc: 0.9804\n",
      "Epoch 8/10\n",
      "60000/60000 [==============================] - 2s - loss: 0.0020 - acc: 0.9999 - val_loss: 0.0852 - val_acc: 0.9797\n",
      "Epoch 9/10\n",
      "60000/60000 [==============================] - 2s - loss: 0.0018 - acc: 1.0000 - val_loss: 0.0862 - val_acc: 0.9803\n",
      "Epoch 10/10\n",
      "60000/60000 [==============================] - 2s - loss: 0.0017 - acc: 0.9999 - val_loss: 0.0839 - val_acc: 0.9805\n"
     ]
    },
    {
     "data": {
      "text/plain": [
       "<keras.callbacks.History at 0x9bbb3a20>"
      ]
     },
     "execution_count": 22,
     "metadata": {},
     "output_type": "execute_result"
    }
   ],
   "source": [
    "batch_size = 128\n",
    "nb_epoch = 10\n",
    "\n",
    "model.fit(X_train, Y_train, \n",
    "          batch_size=batch_size, nb_epoch=nb_epoch,\n",
    "          show_accuracy=True, verbose=1, validation_data=(X_test, Y_test))"
   ]
  },
  {
   "cell_type": "markdown",
   "metadata": {},
   "source": [
    "# Test"
   ]
  },
  {
   "cell_type": "code",
   "execution_count": 23,
   "metadata": {
    "collapsed": false
   },
   "outputs": [
    {
     "name": "stdout",
     "output_type": "stream",
     "text": [
      "('Test score:', 0.08387703459489862)\n",
      "('Test accuracy:', 0.98050000000000004)\n"
     ]
    }
   ],
   "source": [
    "score = model.evaluate(X_test, Y_test, show_accuracy=True, verbose=0)\n",
    "print('Test score:', score[0])\n",
    "print('Test accuracy:', score[1])"
   ]
  },
  {
   "cell_type": "code",
   "execution_count": null,
   "metadata": {
    "collapsed": true
   },
   "outputs": [],
   "source": []
  }
 ],
 "metadata": {
  "anaconda-cloud": {},
  "kernelspec": {
   "display_name": "Python [default]",
   "language": "python",
   "name": "python2"
  },
  "language_info": {
   "codemirror_mode": {
    "name": "ipython",
    "version": 2
   },
   "file_extension": ".py",
   "mimetype": "text/x-python",
   "name": "python",
   "nbconvert_exporter": "python",
   "pygments_lexer": "ipython2",
   "version": "2.7.12"
  }
 },
 "nbformat": 4,
 "nbformat_minor": 0
}
